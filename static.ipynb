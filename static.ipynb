{
 "cells": [
  {
   "cell_type": "code",
   "execution_count": 4,
   "metadata": {},
   "outputs": [
    {
     "name": "stdout",
     "output_type": "stream",
     "text": [
      "0.00025599903623892237\n"
     ]
    },
    {
     "data": {
      "image/png": "[encoded data removed]",
      "text/plain": [
       "<Figure size 432x288 with 1 Axes>"
      ]
     },
     "metadata": {
      "needs_background": "light"
     },
     "output_type": "display_data"
    }
   ],
   "source": [
    "import numpy as np\n",
    "import pandas as pd\n",
    "import matplotlib.pyplot as plt\n",
    "\n",
    "data = pd.read_csv('data/historical_data1_2008/historical_data1_Q12008/historical_data1_Q12008.txt', sep='|', header=None,usecols=[0,1,2,6,7,9,10,11,12,13,15,16,17,20,21,22], dtype={'0':np.float_, '1':np.int_, '2':np.str, '6':np.float_, '7':np.str, '9':np.float_,'10':np.float_,'11':np.float_,'12':np.float_,'13':np.str, '15':np.str, '16':np.str, '17':np.str,'20':np.str, '21':np.float_,'22':np.float_})\n",
    "CREDIT_SCORE = data[0]\n",
    "\n",
    "FIRST_PAYMENT_DATE = data[1]\n",
    "\n",
    "FIRST_TIME_HOMEBUYER_FLAG = data[2] \n",
    "\n",
    "NUMBER_OF_UNITS  = data[6]\n",
    "\n",
    "OCCUPANCY_STATUS = data[7]\n",
    "ORIGINAL_INCOME_RATIO = data[9]\n",
    "ORIGINAL_UPB = data[10]\n",
    "ORIGINAL_LTV = data[11]\n",
    "ORIGINAL_INTEREST_RATE = data[12]\n",
    "CHANNEL = data[13]\n",
    "PRODUCT_TYPE = data[15]\n",
    "PROPERTY_STATE = data[16]\n",
    "PROPERTY_TYPE = data[17]\n",
    "LOAN_PURPOSE = data[20]\n",
    "ORIGINAL_LOAN_TERM = data[21]\n",
    "NUMBER_OF_BORROWERS = data[22]\n",
    "\n",
    "CREDIT_clean = CREDIT_SCORE[CREDIT_SCORE != 9999]\n",
    "bin_size = CREDIT_clean.max()-CREDIT_clean.min()\n",
    "CREDIT_SCORE_UNKNOWN_RATIO = (CREDIT_SCORE.size-CREDIT_clean.size)/CREDIT_SCORE.size\n",
    "plt.figure()\n",
    "figure = plt.hist(CREDIT_clean,bins = bin_size,density=True)\n",
    "plt.show\n",
    "print(CREDIT_SCORE_UNKNOWN_RATIO)\n"
   ]
  },
  {
   "cell_type": "code",
   "execution_count": 8,
   "metadata": {},
   "outputs": [
    {
     "name": "stdout",
     "output_type": "stream",
     "text": [
      "FIRST_TIME_HOMEBUYER_FLAG_Y = 0.06664508243419946\n",
      "FIRST_TIME_HOMEBUYER_FLAG_N = 0.7890266766054528\n",
      "FIRST_TIME_HOMEBUYER_FLAG_NG = 0.14432824096034777\n"
     ]
    }
   ],
   "source": [
    "FIRST_TIME_HOMEBUYER_FLAG_Y = (FIRST_TIME_HOMEBUYER_FLAG[FIRST_TIME_HOMEBUYER_FLAG=='Y'].size)/FIRST_TIME_HOMEBUYER_FLAG.size\n",
    "FIRST_TIME_HOMEBUYER_FLAG_N = (FIRST_TIME_HOMEBUYER_FLAG[FIRST_TIME_HOMEBUYER_FLAG=='N'].size)/FIRST_TIME_HOMEBUYER_FLAG.size\n",
    "FIRST_TIME_HOMEBUYER_FLAG_NG = (FIRST_TIME_HOMEBUYER_FLAG[FIRST_TIME_HOMEBUYER_FLAG=='9'].size)/FIRST_TIME_HOMEBUYER_FLAG.size\n",
    "\n",
    "print('FIRST_TIME_HOMEBUYER_FLAG_Y = {}'.format(FIRST_TIME_HOMEBUYER_FLAG_Y))\n",
    "print('FIRST_TIME_HOMEBUYER_FLAG_N = {}'.format(FIRST_TIME_HOMEBUYER_FLAG_N))\n",
    "print('FIRST_TIME_HOMEBUYER_FLAG_NG = {}'.format(FIRST_TIME_HOMEBUYER_FLAG_NG))"
   ]
  },
  {
   "cell_type": "code",
   "execution_count": 18,
   "metadata": {},
   "outputs": [
    {
     "data": {
      "text/plain": [
       "(array([1.29753345, 0.02717619, 0.00444069, 0.00418301]),\n",
       " array([1.  , 1.75, 2.5 , 3.25, 4.  ]),\n",
       " <BarContainer object of 4 artists>)"
      ]
     },
     "execution_count": 18,
     "metadata": {},
     "output_type": "execute_result"
    },
    {
     "data": {
      "image/png": "[encoded data removed]",
      "text/plain": [
       "<Figure size 432x288 with 1 Axes>"
      ]
     },
     "metadata": {
      "needs_background": "light"
     },
     "output_type": "display_data"
    }
   ],
   "source": [
    "NUMBER_OF_UNITS_clean = NUMBER_OF_UNITS[NUMBER_OF_UNITS!=99]\n",
    "plt.hist(NUMBER_OF_UNITS_clean,bins=4,density=True)\n"
   ]
  },
  {
   "cell_type": "code",
   "execution_count": null,
   "metadata": {},
   "outputs": [],
   "source": []
  }
 ],
 "metadata": {
  "kernelspec": {
   "display_name": "Python 3",
   "language": "python",
   "name": "python3"
  },
  "language_info": {
   "codemirror_mode": {
    "name": "ipython",
    "version": 3
   },
   "file_extension": ".py",
   "mimetype": "text/x-python",
   "name": "python",
   "nbconvert_exporter": "python",
   "pygments_lexer": "ipython3",
   "version": "3.6.12"
  }
 },
 "nbformat": 4,
 "nbformat_minor": 4
}
