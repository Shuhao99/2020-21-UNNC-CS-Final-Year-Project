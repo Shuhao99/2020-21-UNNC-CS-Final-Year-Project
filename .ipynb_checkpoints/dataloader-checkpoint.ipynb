{
 "cells": [
  {
   "cell_type": "code",
   "execution_count": 1,
   "metadata": {},
   "outputs": [
    {
     "name": "stderr",
     "output_type": "stream",
     "text": [
      "C:\\Users\\lenovo\\Anaconda3\\lib\\site-packages\\IPython\\core\\interactiveshell.py:3058: DtypeWarning: Columns (3) have mixed types. Specify dtype option on import or set low_memory=False.\n",
      "  interactivity=interactivity, compiler=compiler, result=result)\n"
     ]
    }
   ],
   "source": [
    "import pandas as pd\n",
    "\n",
    "\n",
    "data = pd.read_csv('data/historical_data1_2008/historical_data1_Q12008/historical_data1_Q12008.txt', sep='|', header=None,usecols=[0,1,2,6,7,9,10,11,12,13,15,16,17,19,20,21,22], dtype={'0':np.float_, '1':np.int_, '2':np.str, '6':np.str, '7':np.str, '9':np.float_,'10':np.float_,'11':np.float_,'12':np.float_,'13':np.str, '15':np.str, '16':np.str, '17':np.str,'19':np.str,'20':np.str, '21':np.float_,'22':np.float_})\n",
    "data_p = pd.read_csv('data/historical_data1_2008/historical_data1_Q12008/historical_data1_time_Q12008.txt',sep='|',header=None,usecols=[0,3],dtype={'0':str, '3':str})"
   ]
  },
  {
   "cell_type": "code",
   "execution_count": 2,
   "metadata": {},
   "outputs": [
    {
     "name": "stdout",
     "output_type": "stream",
     "text": [
      "(21266661, 2)\n"
     ]
    }
   ],
   "source": [
    "data_p[3] = data_p[3].astype(str)\n",
    "clean_index=data_p.iloc[:,1].str.isdigit()\n",
    "data_p_cleaned = data_p[clean_index].copy()"
   ]
  },
  {
   "cell_type": "code",
   "execution_count": 22,
   "metadata": {},
   "outputs": [
    {
     "name": "stdout",
     "output_type": "stream",
     "text": [
      "0         False\n",
      "1         False\n",
      "2         False\n",
      "3          True\n",
      "4         False\n",
      "          ...  \n",
      "398434    False\n",
      "398435    False\n",
      "398436    False\n",
      "398437    False\n",
      "398438    False\n",
      "Name: 19, Length: 398439, dtype: bool\n"
     ]
    }
   ],
   "source": [
    "data_p_cleaned[3] = data_p_cleaned[3].astype(int)\n",
    "data_default = data_p_cleaned[data_p_cleaned[3] > 2]\n",
    "default_index = data[19].isin(data_default[0].tolist())"
   ]
  },
  {
   "cell_type": "code",
   "execution_count": 26,
   "metadata": {},
   "outputs": [],
   "source": [
    "data['default_flag']=default_index\n",
    "data.to_csv('data/historical_data1_2008/historical_data1_Q12008/historical_data1_Q12008_withflag.csv',index=False)"
   ]
  }
 ],
 "metadata": {
  "kernelspec": {
   "display_name": "Python 3",
   "language": "python",
   "name": "python3"
  },
  "language_info": {
   "codemirror_mode": {
    "name": "ipython",
    "version": 3
   },
   "file_extension": ".py",
   "mimetype": "text/x-python",
   "name": "python",
   "nbconvert_exporter": "python",
   "pygments_lexer": "ipython3",
   "version": "3.7.4"
  }
 },
 "nbformat": 4,
 "nbformat_minor": 4
}
