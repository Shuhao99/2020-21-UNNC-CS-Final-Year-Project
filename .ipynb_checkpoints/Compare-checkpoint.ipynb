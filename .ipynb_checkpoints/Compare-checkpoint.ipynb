{
 "cells": [
  {
   "cell_type": "code",
   "execution_count": null,
   "metadata": {},
   "outputs": [],
   "source": [
    "import pandas as pd\n",
    "import numpy as np\n",
    "from numpy import genfromtxt\n",
    "\n",
    "import os\n",
    "import time\n",
    "from matplotlib import pyplot as plt\n",
    "from sklearn import datasets\n",
    "from sklearn.linear_model import LogisticRegression\n",
    "from sklearn.metrics import auc\n",
    "from sklearn.metrics import plot_roc_curve\n",
    "from sklearn.model_selection import StratifiedKFold\n",
    "from sklearn.preprocessing import Normalizer\n",
    "from sklearn import preprocessing\n",
    "from sklearn.model_selection import train_test_split"
   ]
  },
  {
   "cell_type": "code",
   "execution_count": null,
   "metadata": {},
   "outputs": [],
   "source": [
    "every_year_list = [0.80,0.79,0.78,0.79,0.83, 0.84,0.85,0.84,0.84,0.83,0.80] #2004-2014\n",
    "x_axis = np.arange(2004,2015) #2004-2014\n",
    "\n",
    "model_path = 'models/'\n",
    "feature_data_path = 'datasets/test/features/'\n",
    "target_data_path = 'datasets/test/target/'\n",
    "\n",
    "predict_results = []\n",
    "model = load(model_path) \n",
    "for fname in sorted(os.listdir(feature_data_path)):\n",
    "    feature_data_file = os.path.join(feature_data_path, fname)\n",
    "    target_data_file = os.path.join(target_data_path, fname)\n",
    "    X = genfromtxt(feature_data_file, delimiter=',')\n",
    "    y = genfromtxt(target_data_file, delimiter=',')\n",
    "    viz = plot_roc_curve(model, X, y)\n",
    "    predict_results.append(viz.roc_auc)\n",
    "    \n",
    "# Note that even in the OO-style, we use `.pyplot.figure` to create the figure.\n",
    "fig, ax = plt.subplots()  # Create a figure and an axes.\n",
    "\n",
    "ax.plot(x_axis, every_year_list, label='Model trained base every year')  # Plot some data on the axes.\n",
    "ax.plot(x, predict_results, label='2004 model')  # Plot more data on the axes...\n",
    "ax.set_xlabel('year')  # Add an x-label to the axes.\n",
    "ax.set_ylabel('auc score')  # Add a y-label to the axes.\n",
    "ax.set_title(\"logistic regression\")  # Add a title to the axes.\n",
    "ax.legend('best')  # Add a legend.\n",
    "  \n",
    "    \n"
   ]
  }
 ],
 "metadata": {
  "kernelspec": {
   "display_name": "Python 3",
   "language": "python",
   "name": "python3"
  },
  "language_info": {
   "codemirror_mode": {
    "name": "ipython",
    "version": 3
   },
   "file_extension": ".py",
   "mimetype": "text/x-python",
   "name": "python",
   "nbconvert_exporter": "python",
   "pygments_lexer": "ipython3",
   "version": "3.7.9"
  }
 },
 "nbformat": 4,
 "nbformat_minor": 4
}
