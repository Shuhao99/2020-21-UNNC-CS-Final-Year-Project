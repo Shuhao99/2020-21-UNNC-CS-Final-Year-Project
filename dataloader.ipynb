{
 "cells": [
  {
   "cell_type": "code",
   "execution_count": 2,
   "metadata": {},
   "outputs": [
    {
     "name": "stdout",
     "output_type": "stream",
     "text": [
      "(208658, 26)\n"
     ]
    }
   ],
   "source": [
    "import pandas as pd\n",
    "import numpy as np\n",
    "\n",
    "data = pd.read_csv('data/2008/data/historical_data1_Q42008.txt', sep='|',header=None,low_memory=False)\n",
    "print(data.shape)"
   ]
  },
  {
   "cell_type": "code",
   "execution_count": 35,
   "metadata": {},
   "outputs": [
    {
     "name": "stderr",
     "output_type": "stream",
     "text": [
      "C:\\Users\\lenovo\\Anaconda3\\envs\\FYP\\lib\\site-packages\\IPython\\core\\interactiveshell.py:3072: DtypeWarning: Columns (3) have mixed types.Specify dtype option on import or set low_memory=False.\n",
      "  interactivity=interactivity, compiler=compiler, result=result)\n"
     ]
    }
   ],
   "source": [
    "\n",
    "\n",
    "\n",
    "data = pd.read_csv('data/historical_data1_2008/historical_data1_Q42008/historical_data1_Q42008.txt', sep='|', header=None,usecols=[0,1,2,6,7,9,10,11,12,13,15,16,17,19,20,21,22], dtype={'0':np.float_, '1':np.int_, '2':np.str, '6':np.str, '7':np.str, '9':np.float_,'10':np.float_,'11':np.float_,'12':np.float_,'13':np.str, '15':np.str, '16':np.str, '17':np.str,'19':np.str,'20':np.str, '21':np.float_,'22':np.float_})\n",
    "data_p = pd.read_csv('data/historical_data1_2008/historical_data1_Q42008/historical_data1_time_Q42008.txt',sep='|',header=None,usecols=[0,3,4],dtype={'0':str, '3':str, '4':int})"
   ]
  },
  {
   "cell_type": "code",
   "execution_count": 36,
   "metadata": {},
   "outputs": [],
   "source": [
    "data_p[3] = data_p[3].astype(str)\n",
    "clean_index = data_p.iloc[:,1].str.isdigit()\n",
    "data_p_cleaned = data_p[clean_index].copy()"
   ]
  },
  {
   "cell_type": "code",
   "execution_count": 37,
   "metadata": {},
   "outputs": [],
   "source": [
    "data_p_cleaned[3] = data_p_cleaned[3].astype(int)\n",
    "data_less_than_48 = data_p_cleaned[data_p_cleaned[4] < 48]\n",
    "data_default = data_less_than_48[data_less_than_48[3] > 2]\n",
    "default_index = data[19].isin(data_default[0].tolist())"
   ]
  },
  {
   "cell_type": "code",
   "execution_count": 38,
   "metadata": {},
   "outputs": [
    {
     "name": "stdout",
     "output_type": "stream",
     "text": [
      "(208658, 17)\n"
     ]
    }
   ],
   "source": [
    "print(data.shape)"
   ]
  },
  {
   "cell_type": "code",
   "execution_count": 39,
   "metadata": {},
   "outputs": [
    {
     "name": "stdout",
     "output_type": "stream",
     "text": [
      "(10177,)\n"
     ]
    }
   ],
   "source": [
    "default = default_index[default_index == True]\n",
    "print(default.shape)"
   ]
  },
  {
   "cell_type": "code",
   "execution_count": 40,
   "metadata": {},
   "outputs": [],
   "source": [
    "# For Q1 2008 total loan: 398439\n",
    "# Default number: 36569\n",
    "\n",
    "data['default_flag']=default_index\n",
    "data.drop(columns=[19], inplace=True)\n",
    "\n",
    "data.to_csv('data/historical_data1_2008/historical_data1_Q42008/historical_data1_Q42008_withflag.csv',index=False)"
   ]
  },
  {
   "cell_type": "code",
   "execution_count": null,
   "metadata": {},
   "outputs": [],
   "source": []
  }
 ],
 "metadata": {
  "kernelspec": {
   "display_name": "Python 3",
   "language": "python",
   "name": "python3"
  },
  "language_info": {
   "codemirror_mode": {
    "name": "ipython",
    "version": 3
   },
   "file_extension": ".py",
   "mimetype": "text/x-python",
   "name": "python",
   "nbconvert_exporter": "python",
   "pygments_lexer": "ipython3",
   "version": "3.6.12"
  }
 },
 "nbformat": 4,
 "nbformat_minor": 4
}
