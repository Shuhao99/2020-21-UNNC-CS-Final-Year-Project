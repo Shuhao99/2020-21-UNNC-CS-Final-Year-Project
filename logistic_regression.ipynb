{
 "cells": [
  {
   "cell_type": "code",
   "execution_count": 1,
   "metadata": {},
   "outputs": [],
   "source": [
    "import numpy as np\n",
    "import pandas as pd\n",
    "import matplotlib.pyplot as plt\n",
    "from sklearn import datasets, linear_model\n",
    "from sklearn.metrics import mean_squared_error, r2_score\n",
    "from sklearn.preprocessing import MultiLabelBinarizer\n",
    "from sklearn.model_selection import train_test_split\n",
    "from sklearn.preprocessing import QuantileTransformer\n",
    "from time import time\n",
    "from sklearn.pipeline import make_pipeline\n",
    "from sklearn.linear_model import LogisticRegression\n",
    "from sklearn import metrics\n",
    "from sklearn.metrics import confusion_matrix\n",
    "\n",
    "from sklearn.neural_network import MLPRegressor"
   ]
  },
  {
   "cell_type": "code",
   "execution_count": 8,
   "metadata": {},
   "outputs": [],
   "source": [
    "data = pd.read_csv('data/historical_data1_2008/historical_data1_Q12008/historical_data1_Q12008_withflag.csv',\n",
    "                       sep=',', \n",
    "                       header=0, \n",
    "                       names = [\n",
    "                                'CREDIT_SCORE',\n",
    "                                'FIRST_PAYMENT_DATE',\n",
    "                                'FIRST_TIME_HOMEBUYER_FLAG',\n",
    "                                'NUMBER_OF_UNITS',\n",
    "                                'OCCUPANCY_STATUS',\n",
    "                                'ORIGINAL_INCOME_RATIO',\n",
    "                                'ORIGINAL_UPB',\n",
    "                                'ORIGINAL_LTV',\n",
    "                                'ORIGINAL_INTEREST_RATE',\n",
    "                                'CHANNEL',\n",
    "                                'PRODUCT_TYPE',\n",
    "                                'PROPERTY_STATE',\n",
    "                                'PROPERTY_TYPE',\n",
    "                                'LOAN_PURPOSE',\n",
    "                                'ORIGINAL_LOAN_TERM',\n",
    "                                'NUMBER_OF_BORROWERS',\n",
    "                                'DEFAULT_FLAG'\n",
    "                    ])"
   ]
  },
  {
   "cell_type": "code",
   "execution_count": 11,
   "metadata": {},
   "outputs": [
    {
     "name": "stdout",
     "output_type": "stream",
     "text": [
      "771    200803\n",
      "729    200805\n",
      "769    200803\n",
      "755    200803\n",
      "760    200804\n",
      "        ...  \n",
      "751    200805\n",
      "810    200803\n",
      "753    200805\n",
      "789    200804\n",
      "792    200805\n",
      "Name: CREDIT_SCORE, Length: 398439, dtype: int64\n"
     ]
    }
   ],
   "source": []
  },
  {
   "cell_type": "code",
   "execution_count": null,
   "metadata": {},
   "outputs": [],
   "source": []
  }
 ],
 "metadata": {
  "kernelspec": {
   "display_name": "Python 3",
   "language": "python",
   "name": "python3"
  },
  "language_info": {
   "codemirror_mode": {
    "name": "ipython",
    "version": 3
   },
   "file_extension": ".py",
   "mimetype": "text/x-python",
   "name": "python",
   "nbconvert_exporter": "python",
   "pygments_lexer": "ipython3",
   "version": "3.7.9"
  }
 },
 "nbformat": 4,
 "nbformat_minor": 4
}
