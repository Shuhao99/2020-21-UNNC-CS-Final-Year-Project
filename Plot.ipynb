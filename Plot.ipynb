{
 "cells": [
  {
   "cell_type": "code",
   "execution_count": 1,
   "metadata": {},
   "outputs": [],
   "source": [
    "import pandas as pd\n",
    "import numpy as np\n",
    "from numpy import genfromtxt\n",
    "\n",
    "from sklearn.metrics import brier_score_loss\n",
    "import os\n",
    "import time\n",
    "from matplotlib import pyplot as plt\n",
    "import seaborn as sns\n",
    "\n",
    "from sklearn import datasets\n",
    "from sklearn.linear_model import LogisticRegression\n",
    "from sklearn.metrics import roc_curve, auc\n",
    "from sklearn.metrics import roc_auc_score\n",
    "from joblib import dump, load\n",
    "from sklearn import preprocessing\n",
    "from sklearn.model_selection import train_test_split\n",
    "from sklearn.metrics import plot_roc_curve\n"
   ]
  },
  {
   "cell_type": "code",
   "execution_count": null,
   "metadata": {},
   "outputs": [],
   "source": [
    "years = ['2004', '2005','2006','2007','2008','2009','2010','2011','2012','2013','2014','2015']\n",
    "index_list = [\n",
    "    'CREDIT_SCORE',#0\n",
    "    'ORIGINAL_DTI_RATIO',#1\n",
    "    'ORIGINAL_UPB',#2\n",
    "    'ORIGINAL_LTV',#3\n",
    "    'ORIGINAL_INTEREST_RATE',#5\n",
    "]\n",
    "\n",
    "cols = pd.read_csv('data_flag/2004_flag.csv').columns\n",
    "data = pd.DataFrame(columns = cols[1:].append(pd.Index(['YEAR']))) \n",
    "for year_ in years:\n",
    "    print(\"loading {} ...\".format(year_))\n",
    "    data_path = 'data_flag/{year}_flag.csv'.format(year=year_)  \n",
    "    cols = pd.read_csv(data_path).columns\n",
    "    data_this_year = pd.read_csv(data_path, usecols = cols[1:]) \n",
    "    data_this_year['YEAR'] = year_\n",
    "    data = data.append(data_this_year, ignore_index=True)\n",
    "\n",
    "for index in index_list:\n",
    "    fig, ax = plt.subplots(figsize=(15, 8))  \n",
    "    ax = sns.violinplot(x=\"YEAR\", y=index, data=data)\n",
    "    fig.savefig('./Drift_analyze/{}.jpg'.format(index))   "
   ]
  },
  {
   "cell_type": "code",
   "execution_count": null,
   "metadata": {},
   "outputs": [],
   "source": []
  }
 ],
 "metadata": {
  "kernelspec": {
   "display_name": "Python 3",
   "language": "python",
   "name": "python3"
  },
  "language_info": {
   "codemirror_mode": {
    "name": "ipython",
    "version": 3
   },
   "file_extension": ".py",
   "mimetype": "text/x-python",
   "name": "python",
   "nbconvert_exporter": "python",
   "pygments_lexer": "ipython3",
   "version": "3.7.9"
  }
 },
 "nbformat": 4,
 "nbformat_minor": 4
}
